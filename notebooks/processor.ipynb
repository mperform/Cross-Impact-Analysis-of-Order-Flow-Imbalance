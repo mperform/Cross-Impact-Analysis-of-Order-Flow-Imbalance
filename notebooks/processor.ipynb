{
 "cells": [
  {
   "cell_type": "markdown",
   "metadata": {},
   "source": [
    "# Reading and storing DBN.zst data"
   ]
  },
  {
   "cell_type": "code",
   "execution_count": 1,
   "metadata": {},
   "outputs": [
    {
     "name": "stdout",
     "output_type": "stream",
     "text": [
      "Processing file 1...\n",
      "Processing file 2...\n",
      "Processing file 3...\n",
      "Processing file 4...\n",
      "Processing file 5...\n",
      "Processing file 6...\n",
      "Processing file 7...\n",
      "                             ts_event  rtype  publisher_id  instrument_id  \\\n",
      "0 2024-12-26 09:00:00.014727469+00:00     10             2             38   \n",
      "1 2024-12-26 09:00:00.015890768+00:00     10             2          16244   \n",
      "2 2024-12-26 09:00:00.021616800+00:00     10             2          16244   \n",
      "3 2024-12-26 09:00:00.021792832+00:00     10             2          16244   \n",
      "4 2024-12-26 09:00:00.021916353+00:00     10             2          16244   \n",
      "\n",
      "  action side  depth   price  size  flags  ...  ask_sz_08  bid_ct_08  \\\n",
      "0      A    N      0  258.90    41    130  ...          0          0   \n",
      "1      A    N      0  410.00  2000    130  ...          0          0   \n",
      "2      A    A      0  480.45    22    130  ...          0          0   \n",
      "3      A    A      1  491.72    13    130  ...          0          0   \n",
      "4      A    A      2  960.00    25    130  ...          0          0   \n",
      "\n",
      "   ask_ct_08  bid_px_09  ask_px_09  bid_sz_09  ask_sz_09  bid_ct_09  \\\n",
      "0          0        NaN        NaN          0          0          0   \n",
      "1          0        NaN        NaN          0          0          0   \n",
      "2          0        NaN        NaN          0          0          0   \n",
      "3          0        NaN        NaN          0          0          0   \n",
      "4          0        NaN        NaN          0          0          0   \n",
      "\n",
      "   ask_ct_09  symbol  \n",
      "0          0    AAPL  \n",
      "1          0    TSLA  \n",
      "2          0    TSLA  \n",
      "3          0    TSLA  \n",
      "4          0    TSLA  \n",
      "\n",
      "[5 rows x 73 columns]\n"
     ]
    }
   ],
   "source": [
    "import databento as db\n",
    "import os\n",
    "import pandas as pd\n",
    "client = db.Historical(\"db-SxnRCYhbsJGXiEpfhFXC8ybXkAHGt\")\n",
    "# find all .dbn.zst files in data\n",
    "folder_path = \"/Users/thatblue340/Documents/GitHub/Cross-Impact-Analysis-of-Order-Flow-Imbalance/data\"\n",
    "# List to store individual DataFrames\n",
    "dataframes = []\n",
    "# Iterate over all .dbn.zst files in the folder\n",
    "i = 1\n",
    "for file in os.listdir(folder_path):\n",
    "    if file.endswith(\".dbn.zst\"):\n",
    "        print(f\"Processing file {i}...\")\n",
    "        file_path = os.path.join(folder_path, file)\n",
    "        # Read .dbn.zst file into a DBNStore\n",
    "        stored_data = db.DBNStore.from_file(file_path)\n",
    "        # Convert to Pandas DataFrame\n",
    "        df = stored_data.to_df()\n",
    "        # Append to the list of DataFrames\n",
    "        dataframes.append(df)\n",
    "        i += 1\n",
    "\n",
    "# Combine all DataFrames into a single DataFrame\n",
    "combined_df = pd.concat(dataframes, ignore_index=True)\n",
    "\n",
    "# Display the first few rows of the combined DataFrame\n",
    "print(combined_df.head())"
   ]
  },
  {
   "cell_type": "markdown",
   "metadata": {},
   "source": [
    "# Compute OFI Metrics"
   ]
  },
  {
   "cell_type": "markdown",
   "metadata": {},
   "source": [
    "## OFI Function being reused"
   ]
  },
  {
   "cell_type": "markdown",
   "metadata": {},
   "source": [
    "OFI_m = (all bid size of m) - (all ask size of m)"
   ]
  },
  {
   "cell_type": "code",
   "execution_count": 2,
   "metadata": {},
   "outputs": [],
   "source": [
    "import numpy as np\n",
    "from sklearn.decomposition import PCA\n",
    "# Function to compute multi-level OFI\n",
    "def compute_ofi(df, levels=5):\n",
    "    ofi_levels = []\n",
    "    for level in range(1, levels + 1):\n",
    "        # Compute changes in bid and ask sizes for the current level\n",
    "        df[f'bid_sz_change_{level}'] = df[f'bid_sz_0{level}'].diff().fillna(0)\n",
    "        df[f'ask_sz_change_{level}'] = df[f'ask_sz_0{level}'].diff().fillna(0)\n",
    "        # print(f'bid_sz_change_{level}: {df[f\"bid_sz_change_{level}\"]}, ask_sz_change_{level}: {df[f\"ask_sz_change_{level}\"]}')\n",
    "\n",
    "        # Calculate OFI for this level\n",
    "        df[f'ofi_{level}'] = df[f'bid_sz_change_{level}'] - df[f'ask_sz_change_{level}']\n",
    "        \n",
    "        # Append the OFI column for this level\n",
    "        ofi_levels.append(f'ofi_{level}')\n",
    "    \n",
    "    return df, ofi_levels"
   ]
  },
  {
   "cell_type": "markdown",
   "metadata": {},
   "source": [
    "## Compute OFI for all stocks"
   ]
  },
  {
   "cell_type": "code",
   "execution_count": 3,
   "metadata": {},
   "outputs": [],
   "source": [
    "combined_df, ofi_columns = compute_ofi(combined_df, levels=5)"
   ]
  },
  {
   "cell_type": "markdown",
   "metadata": {},
   "source": [
    "### ALL 5 Levels of OFI for Each Stock\n",
    "- We are taking the mean of the OFI for each symbol"
   ]
  },
  {
   "cell_type": "code",
   "execution_count": 4,
   "metadata": {},
   "outputs": [
    {
     "name": "stdout",
     "output_type": "stream",
     "text": [
      "               ofi_1         ofi_2         ofi_3         ofi_4         ofi_5\n",
      "symbol                                                                      \n",
      "AAPL   -8.896069e+06 -8.310266e+06 -1.589004e+06  1.952147e+06 -6.437624e+05\n",
      "AMGN   -1.393859e+08 -1.234139e+08 -8.980084e+07 -8.951497e+07 -6.797309e+07\n",
      "JPM    -4.168014e+07 -2.615143e+07 -2.814112e+07 -1.932607e+07 -1.935503e+07\n",
      "TSLA   -3.121603e+06 -1.107195e+06 -3.675519e+06 -4.791042e+06 -4.655043e+06\n",
      "XOM    -2.435778e+07 -5.914986e+06  8.707769e+06  9.113583e+06  6.650250e+06\n"
     ]
    }
   ],
   "source": [
    "ofi_summary = combined_df.groupby('symbol')[['ofi_1', 'ofi_2', 'ofi_3', 'ofi_4', 'ofi_5']].mean()\n",
    "print(ofi_summary)"
   ]
  },
  {
   "cell_type": "markdown",
   "metadata": {},
   "source": [
    "### Graphing into Bar Chart"
   ]
  },
  {
   "cell_type": "code",
   "execution_count": 5,
   "metadata": {},
   "outputs": [
    {
     "data": {
      "image/png": "[encoded data removed]",
      "text/plain": [
       "<Figure size 1000x600 with 1 Axes>"
      ]
     },
     "metadata": {},
     "output_type": "display_data"
    }
   ],
   "source": [
    "import matplotlib.pyplot as plt\n",
    "\n",
    "ofi_summary.T.plot(kind='bar', figsize=(10, 6))\n",
    "plt.title(\"Average OFI by Stock and Level\")\n",
    "plt.xlabel(\"OFI Levels\")\n",
    "plt.ylabel(\"Average OFI\")\n",
    "plt.legend(title=\"Stocks\")\n",
    "plt.show()"
   ]
  },
  {
   "cell_type": "markdown",
   "metadata": {},
   "source": [
    "## Integrate Multi-Level OFI using PCA"
   ]
  },
  {
   "cell_type": "markdown",
   "metadata": {},
   "source": [
    "- With degree=1, we're only covering 35% of the data, which is not enough\n",
    "- This is why we used degree=4. Now it covers 86% of the data, which is more optimal for analyzing Cross-Impact. "
   ]
  },
  {
   "cell_type": "code",
   "execution_count": 6,
   "metadata": {},
   "outputs": [
    {
     "name": "stdout",
     "output_type": "stream",
     "text": [
      "Length of ofi_columns: 5\n",
      "Cumulative Explained Variance (First Component): 0.34727433879459546\n",
      "Cumulative Explained Variance (All Components): 0.8552903405404688\n"
     ]
    }
   ],
   "source": [
    "from sklearn.decomposition import PCA\n",
    "# Normalize OFI data for all stocks\n",
    "ofi_data = combined_df[ofi_columns]\n",
    "ofi_data_normalized = (ofi_data - ofi_data.mean()) / ofi_data.std()\n",
    "\n",
    "# Apply PCA to the entire dataset\n",
    "print(f'Length of ofi_columns: {len(ofi_columns)}') \n",
    "pca = PCA(n_components=4)\n",
    "pca_result = pca.fit_transform(ofi_data_normalized)\n",
    "\n",
    "combined_df['ofi_integrated'] = pca_result[:, 0]\n",
    "# Print cumulative explained variance\n",
    "explained_variance = pca.explained_variance_ratio_\n",
    "print(f\"Cumulative Explained Variance (First Component): {explained_variance[0]}\")\n",
    "print(f\"Cumulative Explained Variance (All Components): {explained_variance.sum()}\")"
   ]
  },
  {
   "cell_type": "markdown",
   "metadata": {},
   "source": [
    "# Analyze Cross-Impact"
   ]
  },
  {
   "cell_type": "markdown",
   "metadata": {},
   "source": [
    "- Calculate the logarithmic price returns for each stock\n",
    "- Use this return as the dependent variable in the regression analysis next.\n",
    "- Align data to ensure all OFI and price are synchronized by timestamp"
   ]
  },
  {
   "cell_type": "code",
   "execution_count": 7,
   "metadata": {},
   "outputs": [],
   "source": [
    "import psutil\n",
    "import time\n",
    "import dask.dataframe as dd\n",
    "import os\n",
    "\n",
    "def prepare_data(df, lags=[1, 5]):\n",
    "    \"\"\"\n",
    "    Prepare data for regression analysis.\n",
    "\n",
    "    Parameters:\n",
    "    df (pd.DataFrame): Combined dataframe with all stock data, including 'symbol', 'price', and 'ofi_integrated'.\n",
    "    lags (list): List of lags to generate for the OFI metric.\n",
    "\n",
    "    Returns:\n",
    "    pd.DataFrame: Prepared dataframe with returns and lagged OFI metrics.\n",
    "    \"\"\"\n",
    "    \n",
    "    print('Sorting data...')\n",
    "    # Ensure the data is sorted by timestamp for proper lag computation\n",
    "    df = df.sort_values(by=['symbol', 'ts_event']).reset_index(drop=True)\n",
    "    \n",
    "    print('Calculating log returns...')\n",
    "    # Step 1: Calculate Logarithmic Price Returns\n",
    "    df['log_return'] = df.groupby('symbol')['price'].transform(lambda x: np.log(x) - np.log(x.shift(1)))\n",
    "\n",
    "    print('Generating lagged OFI metrics...')\n",
    "    # Step 2: Generate Lagged OFI Metrics\n",
    "    for lag in lags:\n",
    "        lagged_col = f'ofi_integrated_lag_{lag}'\n",
    "        df[lagged_col] = df.groupby('symbol')['ofi_integrated'].transform(lambda x: x.shift(lag))\n",
    "\n",
    "    # print('Dropping NaN values...')\n",
    "    # # Drop rows with NaN values created by lagging or returns calculation\n",
    "    # df = df.dropna(subset=['log_return'] + [f'ofi_integrated_lag_{lag}' for lag in lags]).reset_index(drop=True)\n",
    "\n",
    "    return df"
   ]
  },
  {
   "cell_type": "code",
   "execution_count": 8,
   "metadata": {},
   "outputs": [
    {
     "name": "stdout",
     "output_type": "stream",
     "text": [
      "Sorting data...\n",
      "Calculating log returns...\n",
      "Generating lagged OFI metrics...\n",
      "                             ts_event  rtype  publisher_id  instrument_id  \\\n",
      "0 2024-12-24 09:00:00.021662466+00:00     10             2             38   \n",
      "1 2024-12-24 09:00:00.032883537+00:00     10             2             38   \n",
      "2 2024-12-24 09:00:01.828126235+00:00     10             2             38   \n",
      "3 2024-12-24 09:00:01.995438004+00:00     10             2             38   \n",
      "4 2024-12-24 09:00:09.612102207+00:00     10             2             38   \n",
      "5 2024-12-24 09:00:10.023378480+00:00     10             2             38   \n",
      "6 2024-12-24 09:00:10.254863462+00:00     10             2             38   \n",
      "7 2024-12-24 09:00:10.382216258+00:00     10             2             38   \n",
      "8 2024-12-24 09:00:11.215980542+00:00     10             2             38   \n",
      "9 2024-12-24 09:00:11.356381627+00:00     10             2             38   \n",
      "\n",
      "  action side  depth   price  size  flags  ...  bid_sz_change_4  \\\n",
      "0      A    N      0  258.90    41    130  ...     0.000000e+00   \n",
      "1      A    B      0  217.00  1525    130  ...     0.000000e+00   \n",
      "2      A    B      0  241.22   100    130  ...     4.294967e+09   \n",
      "3      A    A      0  257.96     2    130  ...     4.294967e+09   \n",
      "4      A    A      2  260.00     1    130  ...     4.294967e+09   \n",
      "5      A    B      0  250.00     2    130  ...     4.294967e+09   \n",
      "6      A    A      3  260.13     2    130  ...     0.000000e+00   \n",
      "7      A    B      2  235.00     5    130  ...     0.000000e+00   \n",
      "8      A    B      2  240.00     1    130  ...     1.522000e+03   \n",
      "9      A    A      2  260.00    40    130  ...     0.000000e+00   \n",
      "\n",
      "   ask_sz_change_4         ofi_4  bid_sz_change_5  ask_sz_change_5  \\\n",
      "0     0.000000e+00  0.000000e+00     0.000000e+00     0.000000e+00   \n",
      "1     4.294967e+09 -4.294967e+09     0.000000e+00     4.294967e+09   \n",
      "2     4.294967e+09  6.800000e+01     4.294967e+09     4.294967e+09   \n",
      "3     4.294967e+09  0.000000e+00     4.294967e+09     4.294967e+09   \n",
      "4     4.294967e+09 -1.000000e+02     4.294967e+09     4.294967e+09   \n",
      "5     4.294967e+09 -2.000000e+00     4.294967e+09     4.294967e+09   \n",
      "6     0.000000e+00  0.000000e+00     0.000000e+00     0.000000e+00   \n",
      "7     0.000000e+00  0.000000e+00     0.000000e+00     0.000000e+00   \n",
      "8     4.294967e+09 -4.294966e+09     4.294967e+09     4.294967e+09   \n",
      "9     0.000000e+00  0.000000e+00     0.000000e+00     0.000000e+00   \n",
      "\n",
      "          ofi_5  ofi_integrated  log_return  ofi_integrated_lag_1  \\\n",
      "0  0.000000e+00       -0.893546         NaN                   NaN   \n",
      "1 -4.294967e+09       -5.714033   -0.176545             -0.893546   \n",
      "2 -3.880000e+02       -0.893547    0.105812             -5.714033   \n",
      "3  6.800000e+01       -0.893547    0.067095             -0.893547   \n",
      "4 -6.000000e+01       -0.893547    0.007877             -0.893547   \n",
      "5 -1.000000e+00       -1.121425   -0.039221             -0.893547   \n",
      "6  0.000000e+00        0.007487    0.039721             -1.121425   \n",
      "7  0.000000e+00        1.136399   -0.101596              0.007487   \n",
      "8  9.500000e+01       -1.178381    0.021053              1.136399   \n",
      "9  0.000000e+00        0.007487    0.080043             -1.178381   \n",
      "\n",
      "   ofi_integrated_lag_5  \n",
      "0                   NaN  \n",
      "1                   NaN  \n",
      "2                   NaN  \n",
      "3                   NaN  \n",
      "4                   NaN  \n",
      "5             -0.893546  \n",
      "6             -5.714033  \n",
      "7             -0.893547  \n",
      "8             -0.893547  \n",
      "9             -0.893547  \n",
      "\n",
      "[10 rows x 92 columns]\n"
     ]
    }
   ],
   "source": [
    "# output_files = prepare_data_in_chunks_v1(combined_df, chunk_size=50000)\n",
    "prepared_df = prepare_data(combined_df)\n",
    "print(prepared_df.head(10))"
   ]
  },
  {
   "cell_type": "markdown",
   "metadata": {},
   "source": [
    "- We want to see if OFI_integrated and log_return have any linear correlation between them.\n",
    "- It turns out they do not have much correlation at all.\n",
    "- Even when we broke it down to each lag as well as each stock, there was not much correlation."
   ]
  },
  {
   "cell_type": "code",
   "execution_count": 21,
   "metadata": {},
   "outputs": [
    {
     "name": "stdout",
     "output_type": "stream",
     "text": [
      "Correlation with 1-period lagged OFI:\n",
      "                      log_return  ofi_integrated_lag_1\n",
      "log_return              1.000000              0.008535\n",
      "ofi_integrated_lag_1    0.008535              1.000000\n",
      "Correlation with 5-period lagged OFI:\n",
      "                      log_return  ofi_integrated_lag_5\n",
      "log_return              1.000000              0.000612\n",
      "ofi_integrated_lag_5    0.000612              1.000000\n",
      "Correlation for AAPL:\n",
      "                log_return  ofi_integrated\n",
      "log_return        1.000000       -0.004577\n",
      "ofi_integrated   -0.004577        1.000000\n",
      "Correlation for AMGN:\n",
      "                log_return  ofi_integrated\n",
      "log_return        1.000000       -0.009321\n",
      "ofi_integrated   -0.009321        1.000000\n",
      "Correlation for JPM:\n",
      "                log_return  ofi_integrated\n",
      "log_return        1.000000       -0.002552\n",
      "ofi_integrated   -0.002552        1.000000\n",
      "Correlation for TSLA:\n",
      "                log_return  ofi_integrated\n",
      "log_return        1.000000       -0.019874\n",
      "ofi_integrated   -0.019874        1.000000\n",
      "Correlation for XOM:\n",
      "                log_return  ofi_integrated\n",
      "log_return        1.000000       -0.004355\n",
      "ofi_integrated   -0.004355        1.000000\n"
     ]
    }
   ],
   "source": [
    "# print out the log return and ofi_integrated columns\n",
    "# print(prepared_df[['ts_event','log_return', 'ofi_integrated']].head(50))\n",
    "# print(prepared_df[['log_return', 'ofi_integrated']].describe())\n",
    "\n",
    "# correlation = prepared_df[['log_return', 'ofi_integrated']].corr()\n",
    "# print(\"Correlation matrix:\")\n",
    "# print(correlation)\n",
    "\n",
    "lags = [1, 5]\n",
    "for lag in lags:\n",
    "    lagged_col = f'ofi_integrated_lag_{lag}'\n",
    "    correlation = prepared_df[['log_return', lagged_col]].corr()\n",
    "    print(f\"Correlation with {lag}-period lagged OFI:\")\n",
    "    print(correlation)\n",
    "    \n",
    "grouped = prepared_df.groupby('symbol')\n",
    "for stock, group in grouped:\n",
    "    correlation = group[['log_return', 'ofi_integrated']].corr()\n",
    "    print(f\"Correlation for {stock}:\")\n",
    "    print(correlation)\n"
   ]
  },
  {
   "cell_type": "markdown",
   "metadata": {},
   "source": [
    "### Plotting the correlation"
   ]
  },
  {
   "cell_type": "code",
   "execution_count": 10,
   "metadata": {},
   "outputs": [
    {
     "data": {
      "image/png": "[encoded data removed]",
      "text/plain": [
       "<Figure size 640x480 with 1 Axes>"
      ]
     },
     "metadata": {},
     "output_type": "display_data"
    }
   ],
   "source": [
    "import matplotlib.pyplot as plt\n",
    "plt.scatter(prepared_df['ofi_integrated'], prepared_df['log_return'], alpha=0.3)\n",
    "plt.title(\"Scatter Plot: OFI Integrated vs Log Return\")\n",
    "plt.xlabel(\"OFI Integrated\")\n",
    "plt.ylabel(\"Log Return\")\n",
    "plt.show()"
   ]
  },
  {
   "cell_type": "markdown",
   "metadata": {},
   "source": [
    "- Testing if more lag will result in better correlation"
   ]
  },
  {
   "cell_type": "markdown",
   "metadata": {},
   "source": [
    "# Price Impact Model with Best-Level OFI\n",
    "- This model aims to assess how the best-level OFI of a stock explains its contemporaneous returns"
   ]
  },
  {
   "cell_type": "code",
   "execution_count": 13,
   "metadata": {},
   "outputs": [],
   "source": [
    "import statsmodels.api as sm\n",
    "\n",
    "def pi1_regression(df):\n",
    "    \"\"\"\n",
    "    Price Impact Model with Best-Level OFI (PI[1]).\n",
    "    \n",
    "    Parameters:\n",
    "    df (pd.DataFrame): DataFrame containing 'log_return', 'ofi_1', and 'symbol'.\n",
    "    \n",
    "    Returns:\n",
    "    dict: A dictionary with stock symbols as keys and regression summaries as values.\n",
    "    \"\"\"\n",
    "    results = {}\n",
    "\n",
    "    for stock in df['symbol'].unique():\n",
    "        print(f\"Running regression for stock: {stock}...\")\n",
    "        \n",
    "        # Filter data for the stock\n",
    "        stock_df = df[df['symbol'] == stock]\n",
    "        \n",
    "        # Dependent variable: Log returns\n",
    "        y = stock_df['log_return']\n",
    "        \n",
    "        # Independent variable: Best-level OFI\n",
    "        X = stock_df[['ofi_1']]\n",
    "        \n",
    "        # Add constant for the regression (intercept term)\n",
    "        X = sm.add_constant(X)\n",
    "        \n",
    "        # Fit the regression model\n",
    "        model = sm.OLS(y, X).fit()\n",
    "        \n",
    "        # Store the summary of the regression\n",
    "        results[stock] = model.summary()\n",
    "        \n",
    "        # Print results for debugging\n",
    "        print(model.summary())\n",
    "\n",
    "    return results"
   ]
  },
  {
   "cell_type": "code",
   "execution_count": 12,
   "metadata": {},
   "outputs": [],
   "source": [
    "prepared_df = prepared_df.sort_values(by=['symbol', 'ts_event'])"
   ]
  },
  {
   "cell_type": "code",
   "execution_count": 26,
   "metadata": {},
   "outputs": [
    {
     "name": "stdout",
     "output_type": "stream",
     "text": [
      "Running regression for stock: AAPL...\n",
      "                            OLS Regression Results                            \n",
      "==============================================================================\n",
      "Dep. Variable:             log_return   R-squared:                         nan\n",
      "Model:                            OLS   Adj. R-squared:                    nan\n",
      "Method:                 Least Squares   F-statistic:                       nan\n",
      "Date:                Wed, 08 Jan 2025   Prob (F-statistic):                nan\n",
      "Time:                        02:41:16   Log-Likelihood:                    nan\n",
      "No. Observations:             8006179   AIC:                               nan\n",
      "Df Residuals:                 8006177   BIC:                               nan\n",
      "Df Model:                           1                                         \n",
      "Covariance Type:            nonrobust                                         \n",
      "==============================================================================\n",
      "                 coef    std err          t      P>|t|      [0.025      0.975]\n",
      "------------------------------------------------------------------------------\n",
      "const             nan        nan        nan        nan         nan         nan\n",
      "ofi_1             nan        nan        nan        nan         nan         nan\n",
      "==============================================================================\n",
      "Omnibus:                          nan   Durbin-Watson:                     nan\n",
      "Prob(Omnibus):                    nan   Jarque-Bera (JB):                  nan\n",
      "Skew:                             nan   Prob(JB):                          nan\n",
      "Kurtosis:                         nan   Cond. No.                     1.93e+09\n",
      "==============================================================================\n",
      "\n",
      "Notes:\n",
      "[1] Standard Errors assume that the covariance matrix of the errors is correctly specified.\n",
      "[2] The condition number is large, 1.93e+09. This might indicate that there are\n",
      "strong multicollinearity or other numerical problems.\n",
      "Running regression for stock: AMGN...\n",
      "                            OLS Regression Results                            \n",
      "==============================================================================\n",
      "Dep. Variable:             log_return   R-squared:                         nan\n",
      "Model:                            OLS   Adj. R-squared:                    nan\n",
      "Method:                 Least Squares   F-statistic:                       nan\n",
      "Date:                Wed, 08 Jan 2025   Prob (F-statistic):                nan\n",
      "Time:                        02:41:17   Log-Likelihood:                    nan\n",
      "No. Observations:              465746   AIC:                               nan\n",
      "Df Residuals:                  465744   BIC:                               nan\n",
      "Df Model:                           1                                         \n",
      "Covariance Type:            nonrobust                                         \n",
      "==============================================================================\n",
      "                 coef    std err          t      P>|t|      [0.025      0.975]\n",
      "------------------------------------------------------------------------------\n",
      "const             nan        nan        nan        nan         nan         nan\n",
      "ofi_1             nan        nan        nan        nan         nan         nan\n",
      "==============================================================================\n",
      "Omnibus:                          nan   Durbin-Watson:                     nan\n",
      "Prob(Omnibus):                    nan   Jarque-Bera (JB):                  nan\n",
      "Skew:                             nan   Prob(JB):                          nan\n",
      "Kurtosis:                         nan   Cond. No.                     2.21e+09\n",
      "==============================================================================\n",
      "\n",
      "Notes:\n",
      "[1] Standard Errors assume that the covariance matrix of the errors is correctly specified.\n",
      "[2] The condition number is large, 2.21e+09. This might indicate that there are\n",
      "strong multicollinearity or other numerical problems.\n",
      "Running regression for stock: JPM...\n",
      "                            OLS Regression Results                            \n",
      "==============================================================================\n",
      "Dep. Variable:             log_return   R-squared:                         nan\n",
      "Model:                            OLS   Adj. R-squared:                    nan\n",
      "Method:                 Least Squares   F-statistic:                       nan\n",
      "Date:                Wed, 08 Jan 2025   Prob (F-statistic):                nan\n",
      "Time:                        02:41:18   Log-Likelihood:                    nan\n",
      "No. Observations:             1038290   AIC:                               nan\n",
      "Df Residuals:                 1038288   BIC:                               nan\n",
      "Df Model:                           1                                         \n",
      "Covariance Type:            nonrobust                                         \n",
      "==============================================================================\n",
      "                 coef    std err          t      P>|t|      [0.025      0.975]\n",
      "------------------------------------------------------------------------------\n",
      "const             nan        nan        nan        nan         nan         nan\n",
      "ofi_1             nan        nan        nan        nan         nan         nan\n",
      "==============================================================================\n",
      "Omnibus:                          nan   Durbin-Watson:                     nan\n",
      "Prob(Omnibus):                    nan   Jarque-Bera (JB):                  nan\n",
      "Skew:                             nan   Prob(JB):                          nan\n",
      "Kurtosis:                         nan   Cond. No.                     2.15e+09\n",
      "==============================================================================\n",
      "\n",
      "Notes:\n",
      "[1] Standard Errors assume that the covariance matrix of the errors is correctly specified.\n",
      "[2] The condition number is large, 2.15e+09. This might indicate that there are\n",
      "strong multicollinearity or other numerical problems.\n",
      "Running regression for stock: TSLA...\n",
      "                            OLS Regression Results                            \n",
      "==============================================================================\n",
      "Dep. Variable:             log_return   R-squared:                         nan\n",
      "Model:                            OLS   Adj. R-squared:                    nan\n",
      "Method:                 Least Squares   F-statistic:                       nan\n",
      "Date:                Wed, 08 Jan 2025   Prob (F-statistic):                nan\n",
      "Time:                        02:41:27   Log-Likelihood:                    nan\n",
      "No. Observations:            13421745   AIC:                               nan\n",
      "Df Residuals:                13421743   BIC:                               nan\n",
      "Df Model:                           1                                         \n",
      "Covariance Type:            nonrobust                                         \n",
      "==============================================================================\n",
      "                 coef    std err          t      P>|t|      [0.025      0.975]\n",
      "------------------------------------------------------------------------------\n",
      "const             nan        nan        nan        nan         nan         nan\n",
      "ofi_1             nan        nan        nan        nan         nan         nan\n",
      "==============================================================================\n",
      "Omnibus:                          nan   Durbin-Watson:                     nan\n",
      "Prob(Omnibus):                    nan   Jarque-Bera (JB):                  nan\n",
      "Skew:                             nan   Prob(JB):                          nan\n",
      "Kurtosis:                         nan   Cond. No.                     1.80e+09\n",
      "==============================================================================\n",
      "\n",
      "Notes:\n",
      "[1] Standard Errors assume that the covariance matrix of the errors is correctly specified.\n",
      "[2] The condition number is large, 1.8e+09. This might indicate that there are\n",
      "strong multicollinearity or other numerical problems.\n",
      "Running regression for stock: XOM...\n",
      "                            OLS Regression Results                            \n",
      "==============================================================================\n",
      "Dep. Variable:             log_return   R-squared:                         nan\n",
      "Model:                            OLS   Adj. R-squared:                    nan\n",
      "Method:                 Least Squares   F-statistic:                       nan\n",
      "Date:                Wed, 08 Jan 2025   Prob (F-statistic):                nan\n",
      "Time:                        02:41:29   Log-Likelihood:                    nan\n",
      "No. Observations:             2868157   AIC:                               nan\n",
      "Df Residuals:                 2868155   BIC:                               nan\n",
      "Df Model:                           1                                         \n",
      "Covariance Type:            nonrobust                                         \n",
      "==============================================================================\n",
      "                 coef    std err          t      P>|t|      [0.025      0.975]\n",
      "------------------------------------------------------------------------------\n",
      "const             nan        nan        nan        nan         nan         nan\n",
      "ofi_1             nan        nan        nan        nan         nan         nan\n",
      "==============================================================================\n",
      "Omnibus:                          nan   Durbin-Watson:                     nan\n",
      "Prob(Omnibus):                    nan   Jarque-Bera (JB):                  nan\n",
      "Skew:                             nan   Prob(JB):                          nan\n",
      "Kurtosis:                         nan   Cond. No.                     2.02e+09\n",
      "==============================================================================\n",
      "\n",
      "Notes:\n",
      "[1] Standard Errors assume that the covariance matrix of the errors is correctly specified.\n",
      "[2] The condition number is large, 2.02e+09. This might indicate that there are\n",
      "strong multicollinearity or other numerical problems.\n"
     ]
    }
   ],
   "source": [
    "\n",
    "results = pi1_regression(prepared_df)"
   ]
  },
  {
   "cell_type": "markdown",
   "metadata": {},
   "source": [
    "# Price Impact Model with Integrated OFI\n",
    "- This model aims to assess the relationship between log returns and Integrated OFI.\n",
    "- Integrated OFI combines the 5 levels of OFI of the order book using PCA."
   ]
  },
  {
   "cell_type": "code",
   "execution_count": 24,
   "metadata": {},
   "outputs": [],
   "source": [
    "def pii_regression(df):\n",
    "    \"\"\"\n",
    "    Price Impact Model with Integrated OFI (PII).\n",
    "    \n",
    "    Parameters:\n",
    "    df (pd.DataFrame): DataFrame containing 'log_return', 'ofi_integrated', and 'symbol'.\n",
    "    \n",
    "    Returns:\n",
    "    dict: A dictionary with stock symbols as keys and regression summaries as values.\n",
    "    \"\"\"\n",
    "    results = {}\n",
    "\n",
    "\n",
    "    for stock in df['symbol'].unique():\n",
    "        print(f\"Running regression for stock: {stock}...\")\n",
    "        \n",
    "        # Filter data for the stock\n",
    "        stock_df = df[df['symbol'] == stock]\n",
    "        \n",
    "        # Dependent variable: Log returns\n",
    "        y = stock_df['log_return']\n",
    "        \n",
    "        # Independent variable: Integrated OFI\n",
    "        X = stock_df[['ofi_integrated']]\n",
    "        \n",
    "        # Add constant for the regression (intercept term)\n",
    "        X = sm.add_constant(X)\n",
    "        \n",
    "        # Fit the regression model\n",
    "        model = sm.OLS(y, X).fit()\n",
    "        \n",
    "        # Store the summary of the regression\n",
    "        results[stock] = model.summary()\n",
    "        \n",
    "        # Print results for debugging\n",
    "        print(model.summary())\n",
    "\n",
    "    return results"
   ]
  },
  {
   "cell_type": "code",
   "execution_count": 25,
   "metadata": {},
   "outputs": [
    {
     "name": "stdout",
     "output_type": "stream",
     "text": [
      "Running regression for stock: AAPL...\n",
      "                            OLS Regression Results                            \n",
      "==============================================================================\n",
      "Dep. Variable:             log_return   R-squared:                         nan\n",
      "Model:                            OLS   Adj. R-squared:                    nan\n",
      "Method:                 Least Squares   F-statistic:                       nan\n",
      "Date:                Wed, 08 Jan 2025   Prob (F-statistic):                nan\n",
      "Time:                        02:37:21   Log-Likelihood:                    nan\n",
      "No. Observations:             8006179   AIC:                               nan\n",
      "Df Residuals:                 8006177   BIC:                               nan\n",
      "Df Model:                           1                                         \n",
      "Covariance Type:            nonrobust                                         \n",
      "==================================================================================\n",
      "                     coef    std err          t      P>|t|      [0.025      0.975]\n",
      "----------------------------------------------------------------------------------\n",
      "const                 nan        nan        nan        nan         nan         nan\n",
      "ofi_integrated        nan        nan        nan        nan         nan         nan\n",
      "==============================================================================\n",
      "Omnibus:                          nan   Durbin-Watson:                     nan\n",
      "Prob(Omnibus):                    nan   Jarque-Bera (JB):                  nan\n",
      "Skew:                             nan   Prob(JB):                          nan\n",
      "Kurtosis:                         nan   Cond. No.                         1.26\n",
      "==============================================================================\n",
      "\n",
      "Notes:\n",
      "[1] Standard Errors assume that the covariance matrix of the errors is correctly specified.\n",
      "Running regression for stock: AMGN...\n",
      "                            OLS Regression Results                            \n",
      "==============================================================================\n",
      "Dep. Variable:             log_return   R-squared:                         nan\n",
      "Model:                            OLS   Adj. R-squared:                    nan\n",
      "Method:                 Least Squares   F-statistic:                       nan\n",
      "Date:                Wed, 08 Jan 2025   Prob (F-statistic):                nan\n",
      "Time:                        02:37:23   Log-Likelihood:                    nan\n",
      "No. Observations:              465746   AIC:                               nan\n",
      "Df Residuals:                  465744   BIC:                               nan\n",
      "Df Model:                           1                                         \n",
      "Covariance Type:            nonrobust                                         \n",
      "==================================================================================\n",
      "                     coef    std err          t      P>|t|      [0.025      0.975]\n",
      "----------------------------------------------------------------------------------\n",
      "const                 nan        nan        nan        nan         nan         nan\n",
      "ofi_integrated        nan        nan        nan        nan         nan         nan\n",
      "==============================================================================\n",
      "Omnibus:                          nan   Durbin-Watson:                     nan\n",
      "Prob(Omnibus):                    nan   Jarque-Bera (JB):                  nan\n",
      "Skew:                             nan   Prob(JB):                          nan\n",
      "Kurtosis:                         nan   Cond. No.                         1.53\n",
      "==============================================================================\n",
      "\n",
      "Notes:\n",
      "[1] Standard Errors assume that the covariance matrix of the errors is correctly specified.\n",
      "Running regression for stock: JPM...\n",
      "                            OLS Regression Results                            \n",
      "==============================================================================\n",
      "Dep. Variable:             log_return   R-squared:                         nan\n",
      "Model:                            OLS   Adj. R-squared:                    nan\n",
      "Method:                 Least Squares   F-statistic:                       nan\n",
      "Date:                Wed, 08 Jan 2025   Prob (F-statistic):                nan\n",
      "Time:                        02:37:25   Log-Likelihood:                    nan\n",
      "No. Observations:             1038290   AIC:                               nan\n",
      "Df Residuals:                 1038288   BIC:                               nan\n",
      "Df Model:                           1                                         \n",
      "Covariance Type:            nonrobust                                         \n",
      "==================================================================================\n",
      "                     coef    std err          t      P>|t|      [0.025      0.975]\n",
      "----------------------------------------------------------------------------------\n",
      "const                 nan        nan        nan        nan         nan         nan\n",
      "ofi_integrated        nan        nan        nan        nan         nan         nan\n",
      "==============================================================================\n",
      "Omnibus:                          nan   Durbin-Watson:                     nan\n",
      "Prob(Omnibus):                    nan   Jarque-Bera (JB):                  nan\n",
      "Skew:                             nan   Prob(JB):                          nan\n",
      "Kurtosis:                         nan   Cond. No.                         1.49\n",
      "==============================================================================\n",
      "\n",
      "Notes:\n",
      "[1] Standard Errors assume that the covariance matrix of the errors is correctly specified.\n",
      "Running regression for stock: TSLA...\n",
      "                            OLS Regression Results                            \n",
      "==============================================================================\n",
      "Dep. Variable:             log_return   R-squared:                         nan\n",
      "Model:                            OLS   Adj. R-squared:                    nan\n",
      "Method:                 Least Squares   F-statistic:                       nan\n",
      "Date:                Wed, 08 Jan 2025   Prob (F-statistic):                nan\n",
      "Time:                        02:37:39   Log-Likelihood:                    nan\n",
      "No. Observations:            13421745   AIC:                               nan\n",
      "Df Residuals:                13421743   BIC:                               nan\n",
      "Df Model:                           1                                         \n",
      "Covariance Type:            nonrobust                                         \n",
      "==================================================================================\n",
      "                     coef    std err          t      P>|t|      [0.025      0.975]\n",
      "----------------------------------------------------------------------------------\n",
      "const                 nan        nan        nan        nan         nan         nan\n",
      "ofi_integrated        nan        nan        nan        nan         nan         nan\n",
      "==============================================================================\n",
      "Omnibus:                          nan   Durbin-Watson:                     nan\n",
      "Prob(Omnibus):                    nan   Jarque-Bera (JB):                  nan\n",
      "Skew:                             nan   Prob(JB):                          nan\n",
      "Kurtosis:                         nan   Cond. No.                         1.36\n",
      "==============================================================================\n",
      "\n",
      "Notes:\n",
      "[1] Standard Errors assume that the covariance matrix of the errors is correctly specified.\n",
      "Running regression for stock: XOM...\n",
      "                            OLS Regression Results                            \n",
      "==============================================================================\n",
      "Dep. Variable:             log_return   R-squared:                         nan\n",
      "Model:                            OLS   Adj. R-squared:                    nan\n",
      "Method:                 Least Squares   F-statistic:                       nan\n",
      "Date:                Wed, 08 Jan 2025   Prob (F-statistic):                nan\n",
      "Time:                        02:37:43   Log-Likelihood:                    nan\n",
      "No. Observations:             2868157   AIC:                               nan\n",
      "Df Residuals:                 2868155   BIC:                               nan\n",
      "Df Model:                           1                                         \n",
      "Covariance Type:            nonrobust                                         \n",
      "==================================================================================\n",
      "                     coef    std err          t      P>|t|      [0.025      0.975]\n",
      "----------------------------------------------------------------------------------\n",
      "const                 nan        nan        nan        nan         nan         nan\n",
      "ofi_integrated        nan        nan        nan        nan         nan         nan\n",
      "==============================================================================\n",
      "Omnibus:                          nan   Durbin-Watson:                     nan\n",
      "Prob(Omnibus):                    nan   Jarque-Bera (JB):                  nan\n",
      "Skew:                             nan   Prob(JB):                          nan\n",
      "Kurtosis:                         nan   Cond. No.                         1.18\n",
      "==============================================================================\n",
      "\n",
      "Notes:\n",
      "[1] Standard Errors assume that the covariance matrix of the errors is correctly specified.\n"
     ]
    }
   ],
   "source": [
    "results = pii_regression(prepared_df)"
   ]
  }
 ],
 "metadata": {
  "kernelspec": {
   "display_name": ".venv",
   "language": "python",
   "name": "python3"
  },
  "language_info": {
   "codemirror_mode": {
    "name": "ipython",
    "version": 3
   },
   "file_extension": ".py",
   "mimetype": "text/x-python",
   "name": "python",
   "nbconvert_exporter": "python",
   "pygments_lexer": "ipython3",
   "version": "3.12.4"
  }
 },
 "nbformat": 4,
 "nbformat_minor": 2
}
